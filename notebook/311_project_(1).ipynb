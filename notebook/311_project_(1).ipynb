{
  "nbformat": 4,
  "nbformat_minor": 0,
  "metadata": {
    "kernelspec": {
      "display_name": "Python 3",
      "language": "python",
      "name": "python3"
    },
    "language_info": {
      "codemirror_mode": {
        "name": "ipython",
        "version": 3
      },
      "file_extension": ".py",
      "mimetype": "text/x-python",
      "name": "python",
      "nbconvert_exporter": "python",
      "pygments_lexer": "ipython3",
      "version": "3.8.5"
    },
    "colab": {
      "name": "311 project (1).ipynb",
      "provenance": []
    }
  },
  "cells": [
    {
      "cell_type": "code",
      "metadata": {
        "id": "Kg3eyiW1WiWf"
      },
      "source": [
        "import pandas as pd\n",
        "import numpy as np\n",
        "import time\n",
        "import matplotlib.pyplot as plt\n",
        "import seaborn as sns \n",
        "from scipy.stats import f_oneway"
      ],
      "execution_count": 1,
      "outputs": []
    },
    {
      "cell_type": "code",
      "metadata": {
        "colab": {
          "base_uri": "https://localhost:8080/"
        },
        "id": "fUwFkhn0XKIN",
        "outputId": "ae93b6ac-d232-46df-ba63-44bbb0854bf2"
      },
      "source": [
        "from google.colab import drive\n",
        "drive.mount('/content/drive')"
      ],
      "execution_count": 2,
      "outputs": [
        {
          "output_type": "stream",
          "name": "stdout",
          "text": [
            "Drive already mounted at /content/drive; to attempt to forcibly remount, call drive.mount(\"/content/drive\", force_remount=True).\n"
          ]
        }
      ]
    },
    {
      "cell_type": "markdown",
      "metadata": {
        "id": "F4VgLuGQWiWn"
      },
      "source": [
        "* Import a 311 NYC service request."
      ]
    },
    {
      "cell_type": "code",
      "metadata": {
        "id": "f37lt31IWiWr",
        "colab": {
          "base_uri": "https://localhost:8080/"
        },
        "outputId": "1eee057b-16c1-4c45-ca98-423f3304b36d"
      },
      "source": [
        "hr1=pd.read_csv(\"/content/drive/MyDrive/simplilearn/python with data science /project1/311_Service_Requests_from_2010_to_Present.csv\")"
      ],
      "execution_count": 3,
      "outputs": [
        {
          "output_type": "stream",
          "name": "stderr",
          "text": [
            "/usr/local/lib/python3.7/dist-packages/IPython/core/interactiveshell.py:2718: DtypeWarning: Columns (48,49) have mixed types.Specify dtype option on import or set low_memory=False.\n",
            "  interactivity=interactivity, compiler=compiler, result=result)\n"
          ]
        }
      ]
    },
    {
      "cell_type": "code",
      "metadata": {
        "id": "l3AQ6ctlWiWu",
        "colab": {
          "base_uri": "https://localhost:8080/",
          "height": 576
        },
        "outputId": "ab27b7ad-93ca-49da-beca-b299887472ce"
      },
      "source": [
        "hr1.head()"
      ],
      "execution_count": 4,
      "outputs": [
        {
          "output_type": "execute_result",
          "data": {
            "text/html": [
              "<div>\n",
              "<style scoped>\n",
              "    .dataframe tbody tr th:only-of-type {\n",
              "        vertical-align: middle;\n",
              "    }\n",
              "\n",
              "    .dataframe tbody tr th {\n",
              "        vertical-align: top;\n",
              "    }\n",
              "\n",
              "    .dataframe thead th {\n",
              "        text-align: right;\n",
              "    }\n",
              "</style>\n",
              "<table border=\"1\" class=\"dataframe\">\n",
              "  <thead>\n",
              "    <tr style=\"text-align: right;\">\n",
              "      <th></th>\n",
              "      <th>Unique Key</th>\n",
              "      <th>Created Date</th>\n",
              "      <th>Closed Date</th>\n",
              "      <th>Agency</th>\n",
              "      <th>Agency Name</th>\n",
              "      <th>Complaint Type</th>\n",
              "      <th>Descriptor</th>\n",
              "      <th>Location Type</th>\n",
              "      <th>Incident Zip</th>\n",
              "      <th>Incident Address</th>\n",
              "      <th>Street Name</th>\n",
              "      <th>Cross Street 1</th>\n",
              "      <th>Cross Street 2</th>\n",
              "      <th>Intersection Street 1</th>\n",
              "      <th>Intersection Street 2</th>\n",
              "      <th>Address Type</th>\n",
              "      <th>City</th>\n",
              "      <th>Landmark</th>\n",
              "      <th>Facility Type</th>\n",
              "      <th>Status</th>\n",
              "      <th>Due Date</th>\n",
              "      <th>Resolution Description</th>\n",
              "      <th>Resolution Action Updated Date</th>\n",
              "      <th>Community Board</th>\n",
              "      <th>Borough</th>\n",
              "      <th>X Coordinate (State Plane)</th>\n",
              "      <th>Y Coordinate (State Plane)</th>\n",
              "      <th>Park Facility Name</th>\n",
              "      <th>Park Borough</th>\n",
              "      <th>School Name</th>\n",
              "      <th>School Number</th>\n",
              "      <th>School Region</th>\n",
              "      <th>School Code</th>\n",
              "      <th>School Phone Number</th>\n",
              "      <th>School Address</th>\n",
              "      <th>School City</th>\n",
              "      <th>School State</th>\n",
              "      <th>School Zip</th>\n",
              "      <th>School Not Found</th>\n",
              "      <th>School or Citywide Complaint</th>\n",
              "      <th>Vehicle Type</th>\n",
              "      <th>Taxi Company Borough</th>\n",
              "      <th>Taxi Pick Up Location</th>\n",
              "      <th>Bridge Highway Name</th>\n",
              "      <th>Bridge Highway Direction</th>\n",
              "      <th>Road Ramp</th>\n",
              "      <th>Bridge Highway Segment</th>\n",
              "      <th>Garage Lot Name</th>\n",
              "      <th>Ferry Direction</th>\n",
              "      <th>Ferry Terminal Name</th>\n",
              "      <th>Latitude</th>\n",
              "      <th>Longitude</th>\n",
              "      <th>Location</th>\n",
              "    </tr>\n",
              "  </thead>\n",
              "  <tbody>\n",
              "    <tr>\n",
              "      <th>0</th>\n",
              "      <td>32310363</td>\n",
              "      <td>12/31/2015 11:59:45 PM</td>\n",
              "      <td>01-01-16 0:55</td>\n",
              "      <td>NYPD</td>\n",
              "      <td>New York City Police Department</td>\n",
              "      <td>Noise - Street/Sidewalk</td>\n",
              "      <td>Loud Music/Party</td>\n",
              "      <td>Street/Sidewalk</td>\n",
              "      <td>10034.0</td>\n",
              "      <td>71 VERMILYEA AVENUE</td>\n",
              "      <td>VERMILYEA AVENUE</td>\n",
              "      <td>ACADEMY STREET</td>\n",
              "      <td>WEST 204 STREET</td>\n",
              "      <td>NaN</td>\n",
              "      <td>NaN</td>\n",
              "      <td>ADDRESS</td>\n",
              "      <td>NEW YORK</td>\n",
              "      <td>NaN</td>\n",
              "      <td>Precinct</td>\n",
              "      <td>Closed</td>\n",
              "      <td>01-01-16 7:59</td>\n",
              "      <td>The Police Department responded and upon arriv...</td>\n",
              "      <td>01-01-16 0:55</td>\n",
              "      <td>12 MANHATTAN</td>\n",
              "      <td>MANHATTAN</td>\n",
              "      <td>1005409.0</td>\n",
              "      <td>254678.0</td>\n",
              "      <td>Unspecified</td>\n",
              "      <td>MANHATTAN</td>\n",
              "      <td>Unspecified</td>\n",
              "      <td>Unspecified</td>\n",
              "      <td>Unspecified</td>\n",
              "      <td>Unspecified</td>\n",
              "      <td>Unspecified</td>\n",
              "      <td>Unspecified</td>\n",
              "      <td>Unspecified</td>\n",
              "      <td>Unspecified</td>\n",
              "      <td>Unspecified</td>\n",
              "      <td>N</td>\n",
              "      <td>NaN</td>\n",
              "      <td>NaN</td>\n",
              "      <td>NaN</td>\n",
              "      <td>NaN</td>\n",
              "      <td>NaN</td>\n",
              "      <td>NaN</td>\n",
              "      <td>NaN</td>\n",
              "      <td>NaN</td>\n",
              "      <td>NaN</td>\n",
              "      <td>NaN</td>\n",
              "      <td>NaN</td>\n",
              "      <td>40.865682</td>\n",
              "      <td>-73.923501</td>\n",
              "      <td>(40.86568153633767, -73.92350095571744)</td>\n",
              "    </tr>\n",
              "    <tr>\n",
              "      <th>1</th>\n",
              "      <td>32309934</td>\n",
              "      <td>12/31/2015 11:59:44 PM</td>\n",
              "      <td>01-01-16 1:26</td>\n",
              "      <td>NYPD</td>\n",
              "      <td>New York City Police Department</td>\n",
              "      <td>Blocked Driveway</td>\n",
              "      <td>No Access</td>\n",
              "      <td>Street/Sidewalk</td>\n",
              "      <td>11105.0</td>\n",
              "      <td>27-07 23 AVENUE</td>\n",
              "      <td>23 AVENUE</td>\n",
              "      <td>27 STREET</td>\n",
              "      <td>28 STREET</td>\n",
              "      <td>NaN</td>\n",
              "      <td>NaN</td>\n",
              "      <td>ADDRESS</td>\n",
              "      <td>ASTORIA</td>\n",
              "      <td>NaN</td>\n",
              "      <td>Precinct</td>\n",
              "      <td>Closed</td>\n",
              "      <td>01-01-16 7:59</td>\n",
              "      <td>The Police Department responded to the complai...</td>\n",
              "      <td>01-01-16 1:26</td>\n",
              "      <td>01 QUEENS</td>\n",
              "      <td>QUEENS</td>\n",
              "      <td>1007766.0</td>\n",
              "      <td>221986.0</td>\n",
              "      <td>Unspecified</td>\n",
              "      <td>QUEENS</td>\n",
              "      <td>Unspecified</td>\n",
              "      <td>Unspecified</td>\n",
              "      <td>Unspecified</td>\n",
              "      <td>Unspecified</td>\n",
              "      <td>Unspecified</td>\n",
              "      <td>Unspecified</td>\n",
              "      <td>Unspecified</td>\n",
              "      <td>Unspecified</td>\n",
              "      <td>Unspecified</td>\n",
              "      <td>N</td>\n",
              "      <td>NaN</td>\n",
              "      <td>NaN</td>\n",
              "      <td>NaN</td>\n",
              "      <td>NaN</td>\n",
              "      <td>NaN</td>\n",
              "      <td>NaN</td>\n",
              "      <td>NaN</td>\n",
              "      <td>NaN</td>\n",
              "      <td>NaN</td>\n",
              "      <td>NaN</td>\n",
              "      <td>NaN</td>\n",
              "      <td>40.775945</td>\n",
              "      <td>-73.915094</td>\n",
              "      <td>(40.775945312321085, -73.91509393898605)</td>\n",
              "    </tr>\n",
              "    <tr>\n",
              "      <th>2</th>\n",
              "      <td>32309159</td>\n",
              "      <td>12/31/2015 11:59:29 PM</td>\n",
              "      <td>01-01-16 4:51</td>\n",
              "      <td>NYPD</td>\n",
              "      <td>New York City Police Department</td>\n",
              "      <td>Blocked Driveway</td>\n",
              "      <td>No Access</td>\n",
              "      <td>Street/Sidewalk</td>\n",
              "      <td>10458.0</td>\n",
              "      <td>2897 VALENTINE AVENUE</td>\n",
              "      <td>VALENTINE AVENUE</td>\n",
              "      <td>EAST 198 STREET</td>\n",
              "      <td>EAST 199 STREET</td>\n",
              "      <td>NaN</td>\n",
              "      <td>NaN</td>\n",
              "      <td>ADDRESS</td>\n",
              "      <td>BRONX</td>\n",
              "      <td>NaN</td>\n",
              "      <td>Precinct</td>\n",
              "      <td>Closed</td>\n",
              "      <td>01-01-16 7:59</td>\n",
              "      <td>The Police Department responded and upon arriv...</td>\n",
              "      <td>01-01-16 4:51</td>\n",
              "      <td>07 BRONX</td>\n",
              "      <td>BRONX</td>\n",
              "      <td>1015081.0</td>\n",
              "      <td>256380.0</td>\n",
              "      <td>Unspecified</td>\n",
              "      <td>BRONX</td>\n",
              "      <td>Unspecified</td>\n",
              "      <td>Unspecified</td>\n",
              "      <td>Unspecified</td>\n",
              "      <td>Unspecified</td>\n",
              "      <td>Unspecified</td>\n",
              "      <td>Unspecified</td>\n",
              "      <td>Unspecified</td>\n",
              "      <td>Unspecified</td>\n",
              "      <td>Unspecified</td>\n",
              "      <td>N</td>\n",
              "      <td>NaN</td>\n",
              "      <td>NaN</td>\n",
              "      <td>NaN</td>\n",
              "      <td>NaN</td>\n",
              "      <td>NaN</td>\n",
              "      <td>NaN</td>\n",
              "      <td>NaN</td>\n",
              "      <td>NaN</td>\n",
              "      <td>NaN</td>\n",
              "      <td>NaN</td>\n",
              "      <td>NaN</td>\n",
              "      <td>40.870325</td>\n",
              "      <td>-73.888525</td>\n",
              "      <td>(40.870324522111424, -73.88852464418646)</td>\n",
              "    </tr>\n",
              "    <tr>\n",
              "      <th>3</th>\n",
              "      <td>32305098</td>\n",
              "      <td>12/31/2015 11:57:46 PM</td>\n",
              "      <td>01-01-16 7:43</td>\n",
              "      <td>NYPD</td>\n",
              "      <td>New York City Police Department</td>\n",
              "      <td>Illegal Parking</td>\n",
              "      <td>Commercial Overnight Parking</td>\n",
              "      <td>Street/Sidewalk</td>\n",
              "      <td>10461.0</td>\n",
              "      <td>2940 BAISLEY AVENUE</td>\n",
              "      <td>BAISLEY AVENUE</td>\n",
              "      <td>EDISON AVENUE</td>\n",
              "      <td>B STREET</td>\n",
              "      <td>NaN</td>\n",
              "      <td>NaN</td>\n",
              "      <td>ADDRESS</td>\n",
              "      <td>BRONX</td>\n",
              "      <td>NaN</td>\n",
              "      <td>Precinct</td>\n",
              "      <td>Closed</td>\n",
              "      <td>01-01-16 7:57</td>\n",
              "      <td>The Police Department responded to the complai...</td>\n",
              "      <td>01-01-16 7:43</td>\n",
              "      <td>10 BRONX</td>\n",
              "      <td>BRONX</td>\n",
              "      <td>1031740.0</td>\n",
              "      <td>243899.0</td>\n",
              "      <td>Unspecified</td>\n",
              "      <td>BRONX</td>\n",
              "      <td>Unspecified</td>\n",
              "      <td>Unspecified</td>\n",
              "      <td>Unspecified</td>\n",
              "      <td>Unspecified</td>\n",
              "      <td>Unspecified</td>\n",
              "      <td>Unspecified</td>\n",
              "      <td>Unspecified</td>\n",
              "      <td>Unspecified</td>\n",
              "      <td>Unspecified</td>\n",
              "      <td>N</td>\n",
              "      <td>NaN</td>\n",
              "      <td>NaN</td>\n",
              "      <td>NaN</td>\n",
              "      <td>NaN</td>\n",
              "      <td>NaN</td>\n",
              "      <td>NaN</td>\n",
              "      <td>NaN</td>\n",
              "      <td>NaN</td>\n",
              "      <td>NaN</td>\n",
              "      <td>NaN</td>\n",
              "      <td>NaN</td>\n",
              "      <td>40.835994</td>\n",
              "      <td>-73.828379</td>\n",
              "      <td>(40.83599404683083, -73.82837939584206)</td>\n",
              "    </tr>\n",
              "    <tr>\n",
              "      <th>4</th>\n",
              "      <td>32306529</td>\n",
              "      <td>12/31/2015 11:56:58 PM</td>\n",
              "      <td>01-01-16 3:24</td>\n",
              "      <td>NYPD</td>\n",
              "      <td>New York City Police Department</td>\n",
              "      <td>Illegal Parking</td>\n",
              "      <td>Blocked Sidewalk</td>\n",
              "      <td>Street/Sidewalk</td>\n",
              "      <td>11373.0</td>\n",
              "      <td>87-14 57 ROAD</td>\n",
              "      <td>57 ROAD</td>\n",
              "      <td>SEABURY STREET</td>\n",
              "      <td>HOFFMAN DRIVE</td>\n",
              "      <td>NaN</td>\n",
              "      <td>NaN</td>\n",
              "      <td>ADDRESS</td>\n",
              "      <td>ELMHURST</td>\n",
              "      <td>NaN</td>\n",
              "      <td>Precinct</td>\n",
              "      <td>Closed</td>\n",
              "      <td>01-01-16 7:56</td>\n",
              "      <td>The Police Department responded and upon arriv...</td>\n",
              "      <td>01-01-16 3:24</td>\n",
              "      <td>04 QUEENS</td>\n",
              "      <td>QUEENS</td>\n",
              "      <td>1019123.0</td>\n",
              "      <td>206375.0</td>\n",
              "      <td>Unspecified</td>\n",
              "      <td>QUEENS</td>\n",
              "      <td>Unspecified</td>\n",
              "      <td>Unspecified</td>\n",
              "      <td>Unspecified</td>\n",
              "      <td>Unspecified</td>\n",
              "      <td>Unspecified</td>\n",
              "      <td>Unspecified</td>\n",
              "      <td>Unspecified</td>\n",
              "      <td>Unspecified</td>\n",
              "      <td>Unspecified</td>\n",
              "      <td>N</td>\n",
              "      <td>NaN</td>\n",
              "      <td>NaN</td>\n",
              "      <td>NaN</td>\n",
              "      <td>NaN</td>\n",
              "      <td>NaN</td>\n",
              "      <td>NaN</td>\n",
              "      <td>NaN</td>\n",
              "      <td>NaN</td>\n",
              "      <td>NaN</td>\n",
              "      <td>NaN</td>\n",
              "      <td>NaN</td>\n",
              "      <td>40.733060</td>\n",
              "      <td>-73.874170</td>\n",
              "      <td>(40.733059618956815, -73.87416975810375)</td>\n",
              "    </tr>\n",
              "  </tbody>\n",
              "</table>\n",
              "</div>"
            ],
            "text/plain": [
              "   Unique Key  ...                                  Location\n",
              "0    32310363  ...   (40.86568153633767, -73.92350095571744)\n",
              "1    32309934  ...  (40.775945312321085, -73.91509393898605)\n",
              "2    32309159  ...  (40.870324522111424, -73.88852464418646)\n",
              "3    32305098  ...   (40.83599404683083, -73.82837939584206)\n",
              "4    32306529  ...  (40.733059618956815, -73.87416975810375)\n",
              "\n",
              "[5 rows x 53 columns]"
            ]
          },
          "metadata": {},
          "execution_count": 4
        }
      ]
    },
    {
      "cell_type": "code",
      "metadata": {
        "id": "KduBZlt5WiWw",
        "colab": {
          "base_uri": "https://localhost:8080/",
          "height": 312
        },
        "outputId": "fa8df8e1-7ede-4020-c388-d1b005eb1831"
      },
      "source": [
        "hr1.describe()"
      ],
      "execution_count": 5,
      "outputs": [
        {
          "output_type": "execute_result",
          "data": {
            "text/html": [
              "<div>\n",
              "<style scoped>\n",
              "    .dataframe tbody tr th:only-of-type {\n",
              "        vertical-align: middle;\n",
              "    }\n",
              "\n",
              "    .dataframe tbody tr th {\n",
              "        vertical-align: top;\n",
              "    }\n",
              "\n",
              "    .dataframe thead th {\n",
              "        text-align: right;\n",
              "    }\n",
              "</style>\n",
              "<table border=\"1\" class=\"dataframe\">\n",
              "  <thead>\n",
              "    <tr style=\"text-align: right;\">\n",
              "      <th></th>\n",
              "      <th>Unique Key</th>\n",
              "      <th>Incident Zip</th>\n",
              "      <th>X Coordinate (State Plane)</th>\n",
              "      <th>Y Coordinate (State Plane)</th>\n",
              "      <th>School or Citywide Complaint</th>\n",
              "      <th>Vehicle Type</th>\n",
              "      <th>Taxi Company Borough</th>\n",
              "      <th>Taxi Pick Up Location</th>\n",
              "      <th>Garage Lot Name</th>\n",
              "      <th>Latitude</th>\n",
              "      <th>Longitude</th>\n",
              "    </tr>\n",
              "  </thead>\n",
              "  <tbody>\n",
              "    <tr>\n",
              "      <th>count</th>\n",
              "      <td>3.006980e+05</td>\n",
              "      <td>298083.000000</td>\n",
              "      <td>2.971580e+05</td>\n",
              "      <td>297158.000000</td>\n",
              "      <td>0.0</td>\n",
              "      <td>0.0</td>\n",
              "      <td>0.0</td>\n",
              "      <td>0.0</td>\n",
              "      <td>0.0</td>\n",
              "      <td>297158.000000</td>\n",
              "      <td>297158.000000</td>\n",
              "    </tr>\n",
              "    <tr>\n",
              "      <th>mean</th>\n",
              "      <td>3.130054e+07</td>\n",
              "      <td>10848.888645</td>\n",
              "      <td>1.004854e+06</td>\n",
              "      <td>203754.534416</td>\n",
              "      <td>NaN</td>\n",
              "      <td>NaN</td>\n",
              "      <td>NaN</td>\n",
              "      <td>NaN</td>\n",
              "      <td>NaN</td>\n",
              "      <td>40.725885</td>\n",
              "      <td>-73.925630</td>\n",
              "    </tr>\n",
              "    <tr>\n",
              "      <th>std</th>\n",
              "      <td>5.738547e+05</td>\n",
              "      <td>583.182081</td>\n",
              "      <td>2.175338e+04</td>\n",
              "      <td>29880.183529</td>\n",
              "      <td>NaN</td>\n",
              "      <td>NaN</td>\n",
              "      <td>NaN</td>\n",
              "      <td>NaN</td>\n",
              "      <td>NaN</td>\n",
              "      <td>0.082012</td>\n",
              "      <td>0.078454</td>\n",
              "    </tr>\n",
              "    <tr>\n",
              "      <th>min</th>\n",
              "      <td>3.027948e+07</td>\n",
              "      <td>83.000000</td>\n",
              "      <td>9.133570e+05</td>\n",
              "      <td>121219.000000</td>\n",
              "      <td>NaN</td>\n",
              "      <td>NaN</td>\n",
              "      <td>NaN</td>\n",
              "      <td>NaN</td>\n",
              "      <td>NaN</td>\n",
              "      <td>40.499135</td>\n",
              "      <td>-74.254937</td>\n",
              "    </tr>\n",
              "    <tr>\n",
              "      <th>25%</th>\n",
              "      <td>3.080118e+07</td>\n",
              "      <td>10310.000000</td>\n",
              "      <td>9.919752e+05</td>\n",
              "      <td>183343.000000</td>\n",
              "      <td>NaN</td>\n",
              "      <td>NaN</td>\n",
              "      <td>NaN</td>\n",
              "      <td>NaN</td>\n",
              "      <td>NaN</td>\n",
              "      <td>40.669796</td>\n",
              "      <td>-73.972142</td>\n",
              "    </tr>\n",
              "    <tr>\n",
              "      <th>50%</th>\n",
              "      <td>3.130436e+07</td>\n",
              "      <td>11208.000000</td>\n",
              "      <td>1.003158e+06</td>\n",
              "      <td>201110.500000</td>\n",
              "      <td>NaN</td>\n",
              "      <td>NaN</td>\n",
              "      <td>NaN</td>\n",
              "      <td>NaN</td>\n",
              "      <td>NaN</td>\n",
              "      <td>40.718661</td>\n",
              "      <td>-73.931781</td>\n",
              "    </tr>\n",
              "    <tr>\n",
              "      <th>75%</th>\n",
              "      <td>3.178446e+07</td>\n",
              "      <td>11238.000000</td>\n",
              "      <td>1.018372e+06</td>\n",
              "      <td>224125.250000</td>\n",
              "      <td>NaN</td>\n",
              "      <td>NaN</td>\n",
              "      <td>NaN</td>\n",
              "      <td>NaN</td>\n",
              "      <td>NaN</td>\n",
              "      <td>40.781840</td>\n",
              "      <td>-73.876805</td>\n",
              "    </tr>\n",
              "    <tr>\n",
              "      <th>max</th>\n",
              "      <td>3.231065e+07</td>\n",
              "      <td>11697.000000</td>\n",
              "      <td>1.067173e+06</td>\n",
              "      <td>271876.000000</td>\n",
              "      <td>NaN</td>\n",
              "      <td>NaN</td>\n",
              "      <td>NaN</td>\n",
              "      <td>NaN</td>\n",
              "      <td>NaN</td>\n",
              "      <td>40.912869</td>\n",
              "      <td>-73.700760</td>\n",
              "    </tr>\n",
              "  </tbody>\n",
              "</table>\n",
              "</div>"
            ],
            "text/plain": [
              "         Unique Key   Incident Zip  ...       Latitude      Longitude\n",
              "count  3.006980e+05  298083.000000  ...  297158.000000  297158.000000\n",
              "mean   3.130054e+07   10848.888645  ...      40.725885     -73.925630\n",
              "std    5.738547e+05     583.182081  ...       0.082012       0.078454\n",
              "min    3.027948e+07      83.000000  ...      40.499135     -74.254937\n",
              "25%    3.080118e+07   10310.000000  ...      40.669796     -73.972142\n",
              "50%    3.130436e+07   11208.000000  ...      40.718661     -73.931781\n",
              "75%    3.178446e+07   11238.000000  ...      40.781840     -73.876805\n",
              "max    3.231065e+07   11697.000000  ...      40.912869     -73.700760\n",
              "\n",
              "[8 rows x 11 columns]"
            ]
          },
          "metadata": {},
          "execution_count": 5
        }
      ]
    },
    {
      "cell_type": "code",
      "metadata": {
        "id": "qjx5bv9HWiWx",
        "colab": {
          "base_uri": "https://localhost:8080/"
        },
        "outputId": "bc373f92-a9ac-4d4f-a1df-bbf398c03f34"
      },
      "source": [
        "hr1.info()"
      ],
      "execution_count": 6,
      "outputs": [
        {
          "output_type": "stream",
          "name": "stdout",
          "text": [
            "<class 'pandas.core.frame.DataFrame'>\n",
            "RangeIndex: 300698 entries, 0 to 300697\n",
            "Data columns (total 53 columns):\n",
            " #   Column                          Non-Null Count   Dtype  \n",
            "---  ------                          --------------   -----  \n",
            " 0   Unique Key                      300698 non-null  int64  \n",
            " 1   Created Date                    300698 non-null  object \n",
            " 2   Closed Date                     298534 non-null  object \n",
            " 3   Agency                          300698 non-null  object \n",
            " 4   Agency Name                     300698 non-null  object \n",
            " 5   Complaint Type                  300698 non-null  object \n",
            " 6   Descriptor                      294784 non-null  object \n",
            " 7   Location Type                   300567 non-null  object \n",
            " 8   Incident Zip                    298083 non-null  float64\n",
            " 9   Incident Address                256288 non-null  object \n",
            " 10  Street Name                     256288 non-null  object \n",
            " 11  Cross Street 1                  251419 non-null  object \n",
            " 12  Cross Street 2                  250919 non-null  object \n",
            " 13  Intersection Street 1           43858 non-null   object \n",
            " 14  Intersection Street 2           43362 non-null   object \n",
            " 15  Address Type                    297883 non-null  object \n",
            " 16  City                            298084 non-null  object \n",
            " 17  Landmark                        349 non-null     object \n",
            " 18  Facility Type                   298527 non-null  object \n",
            " 19  Status                          300698 non-null  object \n",
            " 20  Due Date                        300695 non-null  object \n",
            " 21  Resolution Description          300698 non-null  object \n",
            " 22  Resolution Action Updated Date  298511 non-null  object \n",
            " 23  Community Board                 300698 non-null  object \n",
            " 24  Borough                         300698 non-null  object \n",
            " 25  X Coordinate (State Plane)      297158 non-null  float64\n",
            " 26  Y Coordinate (State Plane)      297158 non-null  float64\n",
            " 27  Park Facility Name              300698 non-null  object \n",
            " 28  Park Borough                    300698 non-null  object \n",
            " 29  School Name                     300698 non-null  object \n",
            " 30  School Number                   300698 non-null  object \n",
            " 31  School Region                   300697 non-null  object \n",
            " 32  School Code                     300697 non-null  object \n",
            " 33  School Phone Number             300698 non-null  object \n",
            " 34  School Address                  300698 non-null  object \n",
            " 35  School City                     300698 non-null  object \n",
            " 36  School State                    300698 non-null  object \n",
            " 37  School Zip                      300697 non-null  object \n",
            " 38  School Not Found                300698 non-null  object \n",
            " 39  School or Citywide Complaint    0 non-null       float64\n",
            " 40  Vehicle Type                    0 non-null       float64\n",
            " 41  Taxi Company Borough            0 non-null       float64\n",
            " 42  Taxi Pick Up Location           0 non-null       float64\n",
            " 43  Bridge Highway Name             243 non-null     object \n",
            " 44  Bridge Highway Direction        243 non-null     object \n",
            " 45  Road Ramp                       213 non-null     object \n",
            " 46  Bridge Highway Segment          213 non-null     object \n",
            " 47  Garage Lot Name                 0 non-null       float64\n",
            " 48  Ferry Direction                 1 non-null       object \n",
            " 49  Ferry Terminal Name             2 non-null       object \n",
            " 50  Latitude                        297158 non-null  float64\n",
            " 51  Longitude                       297158 non-null  float64\n",
            " 52  Location                        297158 non-null  object \n",
            "dtypes: float64(10), int64(1), object(42)\n",
            "memory usage: 121.6+ MB\n"
          ]
        }
      ]
    },
    {
      "cell_type": "code",
      "metadata": {
        "id": "3p5wGAmiWiWz",
        "colab": {
          "base_uri": "https://localhost:8080/"
        },
        "outputId": "b0218a23-d80b-4a36-e68c-cf8fa5ebade0"
      },
      "source": [
        "hr1.dtypes"
      ],
      "execution_count": 7,
      "outputs": [
        {
          "output_type": "execute_result",
          "data": {
            "text/plain": [
              "Unique Key                          int64\n",
              "Created Date                       object\n",
              "Closed Date                        object\n",
              "Agency                             object\n",
              "Agency Name                        object\n",
              "Complaint Type                     object\n",
              "Descriptor                         object\n",
              "Location Type                      object\n",
              "Incident Zip                      float64\n",
              "Incident Address                   object\n",
              "Street Name                        object\n",
              "Cross Street 1                     object\n",
              "Cross Street 2                     object\n",
              "Intersection Street 1              object\n",
              "Intersection Street 2              object\n",
              "Address Type                       object\n",
              "City                               object\n",
              "Landmark                           object\n",
              "Facility Type                      object\n",
              "Status                             object\n",
              "Due Date                           object\n",
              "Resolution Description             object\n",
              "Resolution Action Updated Date     object\n",
              "Community Board                    object\n",
              "Borough                            object\n",
              "X Coordinate (State Plane)        float64\n",
              "Y Coordinate (State Plane)        float64\n",
              "Park Facility Name                 object\n",
              "Park Borough                       object\n",
              "School Name                        object\n",
              "School Number                      object\n",
              "School Region                      object\n",
              "School Code                        object\n",
              "School Phone Number                object\n",
              "School Address                     object\n",
              "School City                        object\n",
              "School State                       object\n",
              "School Zip                         object\n",
              "School Not Found                   object\n",
              "School or Citywide Complaint      float64\n",
              "Vehicle Type                      float64\n",
              "Taxi Company Borough              float64\n",
              "Taxi Pick Up Location             float64\n",
              "Bridge Highway Name                object\n",
              "Bridge Highway Direction           object\n",
              "Road Ramp                          object\n",
              "Bridge Highway Segment             object\n",
              "Garage Lot Name                   float64\n",
              "Ferry Direction                    object\n",
              "Ferry Terminal Name                object\n",
              "Latitude                          float64\n",
              "Longitude                         float64\n",
              "Location                           object\n",
              "dtype: object"
            ]
          },
          "metadata": {},
          "execution_count": 7
        }
      ]
    },
    {
      "cell_type": "markdown",
      "metadata": {
        "id": "ajNsKVgtWiW1"
      },
      "source": [
        "*first we see what % of missing data in dataset"
      ]
    },
    {
      "cell_type": "markdown",
      "metadata": {
        "id": "CTOdHwgkWiW3"
      },
      "source": [
        "and ploting a values in bar chart"
      ]
    },
    {
      "cell_type": "code",
      "metadata": {
        "id": "J6AtycYxWiW4",
        "colab": {
          "base_uri": "https://localhost:8080/"
        },
        "outputId": "aed85c8d-2867-47a5-a556-c30844ea6984"
      },
      "source": [
        "hr1.isnull().sum()/len(hr1)*100"
      ],
      "execution_count": 8,
      "outputs": [
        {
          "output_type": "execute_result",
          "data": {
            "text/plain": [
              "Unique Key                          0.000000\n",
              "Created Date                        0.000000\n",
              "Closed Date                         0.719659\n",
              "Agency                              0.000000\n",
              "Agency Name                         0.000000\n",
              "Complaint Type                      0.000000\n",
              "Descriptor                          1.966757\n",
              "Location Type                       0.043565\n",
              "Incident Zip                        0.869643\n",
              "Incident Address                   14.768971\n",
              "Street Name                        14.768971\n",
              "Cross Street 1                     16.388203\n",
              "Cross Street 2                     16.554483\n",
              "Intersection Street 1              85.414602\n",
              "Intersection Street 2              85.579552\n",
              "Address Type                        0.936155\n",
              "City                                0.869311\n",
              "Landmark                           99.883937\n",
              "Facility Type                       0.721987\n",
              "Status                              0.000000\n",
              "Due Date                            0.000998\n",
              "Resolution Description              0.000000\n",
              "Resolution Action Updated Date      0.727308\n",
              "Community Board                     0.000000\n",
              "Borough                             0.000000\n",
              "X Coordinate (State Plane)          1.177261\n",
              "Y Coordinate (State Plane)          1.177261\n",
              "Park Facility Name                  0.000000\n",
              "Park Borough                        0.000000\n",
              "School Name                         0.000000\n",
              "School Number                       0.000000\n",
              "School Region                       0.000333\n",
              "School Code                         0.000333\n",
              "School Phone Number                 0.000000\n",
              "School Address                      0.000000\n",
              "School City                         0.000000\n",
              "School State                        0.000000\n",
              "School Zip                          0.000333\n",
              "School Not Found                    0.000000\n",
              "School or Citywide Complaint      100.000000\n",
              "Vehicle Type                      100.000000\n",
              "Taxi Company Borough              100.000000\n",
              "Taxi Pick Up Location             100.000000\n",
              "Bridge Highway Name                99.919188\n",
              "Bridge Highway Direction           99.919188\n",
              "Road Ramp                          99.929165\n",
              "Bridge Highway Segment             99.929165\n",
              "Garage Lot Name                   100.000000\n",
              "Ferry Direction                    99.999667\n",
              "Ferry Terminal Name                99.999335\n",
              "Latitude                            1.177261\n",
              "Longitude                           1.177261\n",
              "Location                            1.177261\n",
              "dtype: float64"
            ]
          },
          "metadata": {},
          "execution_count": 8
        }
      ]
    },
    {
      "cell_type": "markdown",
      "metadata": {
        "id": "dlmLQidDWiW6"
      },
      "source": [
        "to visualize number of null values in dataset \n",
        "by ploting bar chart we can see \n",
        "which column has what num of null values "
      ]
    },
    {
      "cell_type": "code",
      "metadata": {
        "id": "8Rv_zms1WiW7",
        "colab": {
          "base_uri": "https://localhost:8080/",
          "height": 502
        },
        "outputId": "6f1131cd-3a33-4869-812c-ffb4a3cc4c33"
      },
      "source": [
        "hr1.isnull().sum().plot(kind='bar', figsize=(10,5),title = 'missing values')"
      ],
      "execution_count": 9,
      "outputs": [
        {
          "output_type": "execute_result",
          "data": {
            "text/plain": [
              "<matplotlib.axes._subplots.AxesSubplot at 0x7fe0237b4e90>"
            ]
          },
          "metadata": {},
          "execution_count": 9
        },
        {
          "output_type": "display_data",
          "data": {
            "image/png": "[encoded data removed]",
            "text/plain": [
              "<Figure size 720x360 with 1 Axes>"
            ]
          },
          "metadata": {
            "needs_background": "light"
          }
        }
      ]
    },
    {
      "cell_type": "markdown",
      "metadata": {
        "id": "w24QcSKqWiW9"
      },
      "source": [
        "as visible in bar graph many columns has max missing values that contant null "
      ]
    },
    {
      "cell_type": "markdown",
      "metadata": {
        "id": "oRVeFnDoWiW9"
      },
      "source": [
        "second task is to remove not columns  having maximum null values."
      ]
    },
    {
      "cell_type": "code",
      "metadata": {
        "id": "7rN2rRfEWiW_",
        "colab": {
          "base_uri": "https://localhost:8080/"
        },
        "outputId": "53c83f26-96a1-4c18-8bff-03a67f72ac8f"
      },
      "source": [
        "hr1.keys()"
      ],
      "execution_count": 10,
      "outputs": [
        {
          "output_type": "execute_result",
          "data": {
            "text/plain": [
              "Index(['Unique Key', 'Created Date', 'Closed Date', 'Agency', 'Agency Name',\n",
              "       'Complaint Type', 'Descriptor', 'Location Type', 'Incident Zip',\n",
              "       'Incident Address', 'Street Name', 'Cross Street 1', 'Cross Street 2',\n",
              "       'Intersection Street 1', 'Intersection Street 2', 'Address Type',\n",
              "       'City', 'Landmark', 'Facility Type', 'Status', 'Due Date',\n",
              "       'Resolution Description', 'Resolution Action Updated Date',\n",
              "       'Community Board', 'Borough', 'X Coordinate (State Plane)',\n",
              "       'Y Coordinate (State Plane)', 'Park Facility Name', 'Park Borough',\n",
              "       'School Name', 'School Number', 'School Region', 'School Code',\n",
              "       'School Phone Number', 'School Address', 'School City', 'School State',\n",
              "       'School Zip', 'School Not Found', 'School or Citywide Complaint',\n",
              "       'Vehicle Type', 'Taxi Company Borough', 'Taxi Pick Up Location',\n",
              "       'Bridge Highway Name', 'Bridge Highway Direction', 'Road Ramp',\n",
              "       'Bridge Highway Segment', 'Garage Lot Name', 'Ferry Direction',\n",
              "       'Ferry Terminal Name', 'Latitude', 'Longitude', 'Location'],\n",
              "      dtype='object')"
            ]
          },
          "metadata": {},
          "execution_count": 10
        }
      ]
    },
    {
      "cell_type": "code",
      "metadata": {
        "id": "WwbdbWQrWiW_"
      },
      "source": [
        "un_useble= ['Agency Name','Incident Address','Street Name','Cross Street 1','Cross Street 2','Intersection Street 1',\n",
        "'Intersection Street 2','Address Type','Park Facility Name','Park Borough','School Name',\n",
        "'School Number','School Region','School Code','School Phone Number','School Address','School City',\n",
        "'School State','School Zip','School Not Found','School or Citywide Complaint','Vehicle Type',\n",
        "'Taxi Company Borough','Taxi Pick Up Location','Bridge Highway Name','Bridge Highway Direction',\n",
        "'Road Ramp','Bridge Highway Segment','Garage Lot Name','Ferry Direction','Ferry Terminal Name','Landmark',\n",
        "'X Coordinate (State Plane)','Y Coordinate (State Plane)','Due Date','Resolution Action Updated Date','Community Board','Facility Type']"
      ],
      "execution_count": 11,
      "outputs": []
    },
    {
      "cell_type": "markdown",
      "metadata": {
        "id": "lEdTKBFqWiXB"
      },
      "source": [
        "serching a values in status column and visualize what num of tipe values related to which cattegiry by bar chart \n"
      ]
    },
    {
      "cell_type": "code",
      "metadata": {
        "id": "Fm95CdOSWiXC",
        "colab": {
          "base_uri": "https://localhost:8080/",
          "height": 627
        },
        "outputId": "3c522c3e-475c-4b28-d459-d7ff56b2be9b"
      },
      "source": [
        "hr1['Status'].value_counts().plot(kind='bar',alpha=0.6,figsize=(6,10))\n",
        "plt.show()"
      ],
      "execution_count": 12,
      "outputs": [
        {
          "output_type": "display_data",
          "data": {
            "image/png": "[encoded data removed]",
            "text/plain": [
              "<Figure size 432x720 with 1 Axes>"
            ]
          },
          "metadata": {
            "needs_background": "light"
          }
        }
      ]
    },
    {
      "cell_type": "code",
      "metadata": {
        "id": "Z85UpK3hWiXD",
        "colab": {
          "base_uri": "https://localhost:8080/"
        },
        "outputId": "4312af21-ff41-48aa-bc70-87642dbd673f"
      },
      "source": [
        "hr1.drop(un_useble, inplace=True, axis=1)\n",
        "hr1= hr1[(hr1['Latitude'].notnull())& (hr1['Longitude'].notnull()) & (hr1['Descriptor'].notnull())]\n",
        "hr1 = hr1[hr1['Status']=='Closed']\n",
        "hr1.drop(['Status'],inplace=True, axis=1)\n",
        "hr1.info()"
      ],
      "execution_count": 13,
      "outputs": [
        {
          "output_type": "stream",
          "name": "stdout",
          "text": [
            "<class 'pandas.core.frame.DataFrame'>\n",
            "Int64Index: 291204 entries, 0 to 300697\n",
            "Data columns (total 14 columns):\n",
            " #   Column                  Non-Null Count   Dtype  \n",
            "---  ------                  --------------   -----  \n",
            " 0   Unique Key              291204 non-null  int64  \n",
            " 1   Created Date            291204 non-null  object \n",
            " 2   Closed Date             291204 non-null  object \n",
            " 3   Agency                  291204 non-null  object \n",
            " 4   Complaint Type          291204 non-null  object \n",
            " 5   Descriptor              291204 non-null  object \n",
            " 6   Location Type           291149 non-null  object \n",
            " 7   Incident Zip            291164 non-null  float64\n",
            " 8   City                    291164 non-null  object \n",
            " 9   Resolution Description  291204 non-null  object \n",
            " 10  Borough                 291204 non-null  object \n",
            " 11  Latitude                291204 non-null  float64\n",
            " 12  Longitude               291204 non-null  float64\n",
            " 13  Location                291204 non-null  object \n",
            "dtypes: float64(3), int64(1), object(10)\n",
            "memory usage: 33.3+ MB\n"
          ]
        }
      ]
    },
    {
      "cell_type": "markdown",
      "metadata": {
        "id": "6hH9WdEFWiXE"
      },
      "source": [
        "second task \n",
        "changing data type from object to date and time by using date and time module \n"
      ]
    },
    {
      "cell_type": "code",
      "metadata": {
        "id": "3143jqSWWiXF"
      },
      "source": [
        "\n",
        "hr1[\"Created Date\"]=pd.to_datetime(hr1['Created Date'])\n",
        "hr1[\"Closed Date\"]=pd.to_datetime(hr1['Closed Date'])\n"
      ],
      "execution_count": 14,
      "outputs": []
    },
    {
      "cell_type": "code",
      "metadata": {
        "id": "d--8qhKGWiXG",
        "colab": {
          "base_uri": "https://localhost:8080/"
        },
        "outputId": "f426c29e-d1ec-4932-bb7d-3f287d926925"
      },
      "source": [
        "hr1.info()"
      ],
      "execution_count": 15,
      "outputs": [
        {
          "output_type": "stream",
          "name": "stdout",
          "text": [
            "<class 'pandas.core.frame.DataFrame'>\n",
            "Int64Index: 291204 entries, 0 to 300697\n",
            "Data columns (total 14 columns):\n",
            " #   Column                  Non-Null Count   Dtype         \n",
            "---  ------                  --------------   -----         \n",
            " 0   Unique Key              291204 non-null  int64         \n",
            " 1   Created Date            291204 non-null  datetime64[ns]\n",
            " 2   Closed Date             291204 non-null  datetime64[ns]\n",
            " 3   Agency                  291204 non-null  object        \n",
            " 4   Complaint Type          291204 non-null  object        \n",
            " 5   Descriptor              291204 non-null  object        \n",
            " 6   Location Type           291149 non-null  object        \n",
            " 7   Incident Zip            291164 non-null  float64       \n",
            " 8   City                    291164 non-null  object        \n",
            " 9   Resolution Description  291204 non-null  object        \n",
            " 10  Borough                 291204 non-null  object        \n",
            " 11  Latitude                291204 non-null  float64       \n",
            " 12  Longitude               291204 non-null  float64       \n",
            " 13  Location                291204 non-null  object        \n",
            "dtypes: datetime64[ns](2), float64(3), int64(1), object(8)\n",
            "memory usage: 33.3+ MB\n"
          ]
        }
      ]
    },
    {
      "cell_type": "markdown",
      "metadata": {
        "id": "tSFi17_uWiXH"
      },
      "source": [
        " add new calumn \"Request_closing_time\" for colepsed time between created date anf closed date \n"
      ]
    },
    {
      "cell_type": "code",
      "metadata": {
        "id": "s8BBvJYVWiXI"
      },
      "source": [
        "hr1['Request_closing_time']=hr1[\"Closed Date\"]-hr1[\"Created Date\"]"
      ],
      "execution_count": 16,
      "outputs": []
    },
    {
      "cell_type": "code",
      "metadata": {
        "id": "VWwC-daoWiXJ",
        "colab": {
          "base_uri": "https://localhost:8080/"
        },
        "outputId": "d5d16742-a376-43d4-abf6-c851d183204a"
      },
      "source": [
        "hr1['Request_closing_time']"
      ],
      "execution_count": 17,
      "outputs": [
        {
          "output_type": "execute_result",
          "data": {
            "text/plain": [
              "0        0 days 00:55:15\n",
              "1        0 days 01:26:16\n",
              "2        0 days 04:51:31\n",
              "3        0 days 07:45:14\n",
              "4        0 days 03:27:02\n",
              "               ...      \n",
              "300692   0 days 00:38:29\n",
              "300694   0 days 02:00:31\n",
              "300695   0 days 03:07:17\n",
              "300696   0 days 04:05:33\n",
              "300697   0 days 04:08:49\n",
              "Name: Request_closing_time, Length: 291204, dtype: timedelta64[ns]"
            ]
          },
          "metadata": {},
          "execution_count": 17
        }
      ]
    },
    {
      "cell_type": "code",
      "metadata": {
        "id": "GzJx0L_KWiXK",
        "colab": {
          "base_uri": "https://localhost:8080/"
        },
        "outputId": "b96da998-972e-4c14-9f69-1a8edbaa79fa"
      },
      "source": [
        "hr1.info()"
      ],
      "execution_count": 18,
      "outputs": [
        {
          "output_type": "stream",
          "name": "stdout",
          "text": [
            "<class 'pandas.core.frame.DataFrame'>\n",
            "Int64Index: 291204 entries, 0 to 300697\n",
            "Data columns (total 15 columns):\n",
            " #   Column                  Non-Null Count   Dtype          \n",
            "---  ------                  --------------   -----          \n",
            " 0   Unique Key              291204 non-null  int64          \n",
            " 1   Created Date            291204 non-null  datetime64[ns] \n",
            " 2   Closed Date             291204 non-null  datetime64[ns] \n",
            " 3   Agency                  291204 non-null  object         \n",
            " 4   Complaint Type          291204 non-null  object         \n",
            " 5   Descriptor              291204 non-null  object         \n",
            " 6   Location Type           291149 non-null  object         \n",
            " 7   Incident Zip            291164 non-null  float64        \n",
            " 8   City                    291164 non-null  object         \n",
            " 9   Resolution Description  291204 non-null  object         \n",
            " 10  Borough                 291204 non-null  object         \n",
            " 11  Latitude                291204 non-null  float64        \n",
            " 12  Longitude               291204 non-null  float64        \n",
            " 13  Location                291204 non-null  object         \n",
            " 14  Request_closing_time    291204 non-null  timedelta64[ns]\n",
            "dtypes: datetime64[ns](2), float64(3), int64(1), object(8), timedelta64[ns](1)\n",
            "memory usage: 35.5+ MB\n"
          ]
        }
      ]
    },
    {
      "cell_type": "code",
      "metadata": {
        "id": "a5T44lxqWiXL",
        "colab": {
          "base_uri": "https://localhost:8080/"
        },
        "outputId": "faf6b6ac-fc13-4ec2-b5a0-90b82ac2d586"
      },
      "source": [
        "hr1.columns"
      ],
      "execution_count": 19,
      "outputs": [
        {
          "output_type": "execute_result",
          "data": {
            "text/plain": [
              "Index(['Unique Key', 'Created Date', 'Closed Date', 'Agency', 'Complaint Type',\n",
              "       'Descriptor', 'Location Type', 'Incident Zip', 'City',\n",
              "       'Resolution Description', 'Borough', 'Latitude', 'Longitude',\n",
              "       'Location', 'Request_closing_time'],\n",
              "      dtype='object')"
            ]
          },
          "metadata": {},
          "execution_count": 19
        }
      ]
    },
    {
      "cell_type": "markdown",
      "metadata": {
        "id": "2fKarn_fWiXM"
      },
      "source": [
        "then again see the % of null values remain in data set "
      ]
    },
    {
      "cell_type": "code",
      "metadata": {
        "id": "NWioMosDWiXM",
        "colab": {
          "base_uri": "https://localhost:8080/"
        },
        "outputId": "8f2c7e61-4b93-4497-f308-9bdf69c283ad"
      },
      "source": [
        "hr1.isnull().sum()/len(hr1)*100"
      ],
      "execution_count": 20,
      "outputs": [
        {
          "output_type": "execute_result",
          "data": {
            "text/plain": [
              "Unique Key                0.000000\n",
              "Created Date              0.000000\n",
              "Closed Date               0.000000\n",
              "Agency                    0.000000\n",
              "Complaint Type            0.000000\n",
              "Descriptor                0.000000\n",
              "Location Type             0.018887\n",
              "Incident Zip              0.013736\n",
              "City                      0.013736\n",
              "Resolution Description    0.000000\n",
              "Borough                   0.000000\n",
              "Latitude                  0.000000\n",
              "Longitude                 0.000000\n",
              "Location                  0.000000\n",
              "Request_closing_time      0.000000\n",
              "dtype: float64"
            ]
          },
          "metadata": {},
          "execution_count": 20
        }
      ]
    },
    {
      "cell_type": "markdown",
      "metadata": {
        "id": "XLaK8FS-WiXN"
      },
      "source": [
        "complain distribution across borough "
      ]
    },
    {
      "cell_type": "markdown",
      "metadata": {
        "id": "J1g5utoOWiXN"
      },
      "source": [
        "visualizing in pie chart"
      ]
    },
    {
      "cell_type": "code",
      "metadata": {
        "id": "tOEvh0snWiXO",
        "colab": {
          "base_uri": "https://localhost:8080/"
        },
        "outputId": "9319ecc8-fd2b-4dba-8a0e-77d15bbda9e9"
      },
      "source": [
        "hr1['Borough'].value_counts()"
      ],
      "execution_count": 21,
      "outputs": [
        {
          "output_type": "execute_result",
          "data": {
            "text/plain": [
              "BROOKLYN         96881\n",
              "QUEENS           79811\n",
              "MANHATTAN        62074\n",
              "BRONX            40224\n",
              "STATEN ISLAND    12214\n",
              "Name: Borough, dtype: int64"
            ]
          },
          "metadata": {},
          "execution_count": 21
        }
      ]
    },
    {
      "cell_type": "code",
      "metadata": {
        "id": "4zm5_P6kWiXP",
        "colab": {
          "base_uri": "https://localhost:8080/",
          "height": 441
        },
        "outputId": "7ae1d7ac-b1a5-4480-d1e2-351c8f0e58dd"
      },
      "source": [
        "colors = ['#639ace','#ca6b39','#7f67ca','#5ba85f','#c360aa','#a7993f','#cc566a']\n",
        "hr1['Borough'].value_counts().plot(kind='pie',autopct='%1.1f%%',\n",
        "                        explode = (0.15, 0, 0, 0,0), startangle=45, shadow=False, colors = colors,\n",
        "                        figsize = (8,6))\n",
        "#plt.legend(title='BOROUGH', loc='upper right', bbox_to_anchor=(1.5,1))\n",
        "plt.axis('equal')\n",
        "plt.title('# complaints distribution across Boroughs (2015)\\n')\n",
        "plt.tight_layout()\n",
        "plt.show()"
      ],
      "execution_count": 22,
      "outputs": [
        {
          "output_type": "display_data",
          "data": {
            "image/png": "[encoded data removed]",
            "text/plain": [
              "<Figure size 576x432 with 1 Axes>"
            ]
          },
          "metadata": {}
        }
      ]
    },
    {
      "cell_type": "code",
      "metadata": {
        "id": "9dGlm1MPWiXQ",
        "colab": {
          "base_uri": "https://localhost:8080/"
        },
        "outputId": "1c5c8415-754a-4a35-ada3-f113ff3b46a4"
      },
      "source": [
        "hr1['Request_closing_time'].sort_values()"
      ],
      "execution_count": 23,
      "outputs": [
        {
          "output_type": "execute_result",
          "data": {
            "text/plain": [
              "61125     0 days 00:01:00\n",
              "60357     0 days 00:02:00\n",
              "222119    0 days 00:02:00\n",
              "163683    0 days 00:02:00\n",
              "260083    0 days 00:02:00\n",
              "               ...       \n",
              "12167     9 days 07:21:06\n",
              "12168     9 days 07:22:12\n",
              "21268    21 days 15:16:01\n",
              "23664    24 days 01:21:36\n",
              "244488   24 days 16:52:22\n",
              "Name: Request_closing_time, Length: 291204, dtype: timedelta64[ns]"
            ]
          },
          "metadata": {},
          "execution_count": 23
        }
      ]
    },
    {
      "cell_type": "markdown",
      "metadata": {
        "id": "_W24_vNwWiXR"
      },
      "source": [
        "to calculating avarage time  we have to cal aprox time for each values of time "
      ]
    },
    {
      "cell_type": "markdown",
      "metadata": {
        "id": "9WprpdAXWiXR"
      },
      "source": [
        "and view values of request closing time  in hour (aprox)"
      ]
    },
    {
      "cell_type": "code",
      "metadata": {
        "id": "evnPy0bPWiXS",
        "colab": {
          "base_uri": "https://localhost:8080/",
          "height": 203
        },
        "outputId": "0def95c9-50ac-437d-8d74-2a63a29d0bc8"
      },
      "source": [
        "hr1['Request_Closing_Hours'] = hr1['Request_closing_time'].astype('timedelta64[h]')+1\n",
        "hr1[['Request_closing_time','Request_Closing_Hours']].head()"
      ],
      "execution_count": 24,
      "outputs": [
        {
          "output_type": "execute_result",
          "data": {
            "text/html": [
              "<div>\n",
              "<style scoped>\n",
              "    .dataframe tbody tr th:only-of-type {\n",
              "        vertical-align: middle;\n",
              "    }\n",
              "\n",
              "    .dataframe tbody tr th {\n",
              "        vertical-align: top;\n",
              "    }\n",
              "\n",
              "    .dataframe thead th {\n",
              "        text-align: right;\n",
              "    }\n",
              "</style>\n",
              "<table border=\"1\" class=\"dataframe\">\n",
              "  <thead>\n",
              "    <tr style=\"text-align: right;\">\n",
              "      <th></th>\n",
              "      <th>Request_closing_time</th>\n",
              "      <th>Request_Closing_Hours</th>\n",
              "    </tr>\n",
              "  </thead>\n",
              "  <tbody>\n",
              "    <tr>\n",
              "      <th>0</th>\n",
              "      <td>0 days 00:55:15</td>\n",
              "      <td>1.0</td>\n",
              "    </tr>\n",
              "    <tr>\n",
              "      <th>1</th>\n",
              "      <td>0 days 01:26:16</td>\n",
              "      <td>2.0</td>\n",
              "    </tr>\n",
              "    <tr>\n",
              "      <th>2</th>\n",
              "      <td>0 days 04:51:31</td>\n",
              "      <td>5.0</td>\n",
              "    </tr>\n",
              "    <tr>\n",
              "      <th>3</th>\n",
              "      <td>0 days 07:45:14</td>\n",
              "      <td>8.0</td>\n",
              "    </tr>\n",
              "    <tr>\n",
              "      <th>4</th>\n",
              "      <td>0 days 03:27:02</td>\n",
              "      <td>4.0</td>\n",
              "    </tr>\n",
              "  </tbody>\n",
              "</table>\n",
              "</div>"
            ],
            "text/plain": [
              "  Request_closing_time  Request_Closing_Hours\n",
              "0      0 days 00:55:15                    1.0\n",
              "1      0 days 01:26:16                    2.0\n",
              "2      0 days 04:51:31                    5.0\n",
              "3      0 days 07:45:14                    8.0\n",
              "4      0 days 03:27:02                    4.0"
            ]
          },
          "metadata": {},
          "execution_count": 24
        }
      ]
    },
    {
      "cell_type": "markdown",
      "metadata": {
        "id": "u72vV7W4WiXS"
      },
      "source": [
        "#grouping complaint type and borough based on Request Closing Hour\n",
        "\n"
      ]
    },
    {
      "cell_type": "markdown",
      "metadata": {
        "id": "ptHrQAlbWiXT"
      },
      "source": [
        "#and taking a visualized look of the data--based on perticular location what type and number of compl. accur at"
      ]
    },
    {
      "cell_type": "code",
      "metadata": {
        "id": "ee43Y-ILWiXU"
      },
      "source": [
        "\n",
        "grouped_data = hr1.groupby(['Complaint Type','Borough'])[['Request_Closing_Hours']].mean().unstack()"
      ],
      "execution_count": 25,
      "outputs": []
    },
    {
      "cell_type": "code",
      "metadata": {
        "id": "WY0jI8CiWiXU",
        "colab": {
          "base_uri": "https://localhost:8080/",
          "height": 265
        },
        "outputId": "85e10e9e-fde2-4a68-a322-e19156265951"
      },
      "source": [
        "grouped_data.head()"
      ],
      "execution_count": 26,
      "outputs": [
        {
          "output_type": "execute_result",
          "data": {
            "text/html": [
              "<div>\n",
              "<style scoped>\n",
              "    .dataframe tbody tr th:only-of-type {\n",
              "        vertical-align: middle;\n",
              "    }\n",
              "\n",
              "    .dataframe tbody tr th {\n",
              "        vertical-align: top;\n",
              "    }\n",
              "\n",
              "    .dataframe thead tr th {\n",
              "        text-align: left;\n",
              "    }\n",
              "\n",
              "    .dataframe thead tr:last-of-type th {\n",
              "        text-align: right;\n",
              "    }\n",
              "</style>\n",
              "<table border=\"1\" class=\"dataframe\">\n",
              "  <thead>\n",
              "    <tr>\n",
              "      <th></th>\n",
              "      <th colspan=\"5\" halign=\"left\">Request_Closing_Hours</th>\n",
              "    </tr>\n",
              "    <tr>\n",
              "      <th>Borough</th>\n",
              "      <th>BRONX</th>\n",
              "      <th>BROOKLYN</th>\n",
              "      <th>MANHATTAN</th>\n",
              "      <th>QUEENS</th>\n",
              "      <th>STATEN ISLAND</th>\n",
              "    </tr>\n",
              "    <tr>\n",
              "      <th>Complaint Type</th>\n",
              "      <th></th>\n",
              "      <th></th>\n",
              "      <th></th>\n",
              "      <th></th>\n",
              "      <th></th>\n",
              "    </tr>\n",
              "  </thead>\n",
              "  <tbody>\n",
              "    <tr>\n",
              "      <th>Animal Abuse</th>\n",
              "      <td>7.837226</td>\n",
              "      <td>5.339331</td>\n",
              "      <td>4.199206</td>\n",
              "      <td>5.919957</td>\n",
              "      <td>5.464991</td>\n",
              "    </tr>\n",
              "    <tr>\n",
              "      <th>Blocked Driveway</th>\n",
              "      <td>6.761950</td>\n",
              "      <td>4.914569</td>\n",
              "      <td>4.054934</td>\n",
              "      <td>5.037781</td>\n",
              "      <td>4.581037</td>\n",
              "    </tr>\n",
              "    <tr>\n",
              "      <th>Derelict Vehicle</th>\n",
              "      <td>9.708568</td>\n",
              "      <td>6.467970</td>\n",
              "      <td>4.777358</td>\n",
              "      <td>9.007899</td>\n",
              "      <td>5.539989</td>\n",
              "    </tr>\n",
              "    <tr>\n",
              "      <th>Disorderly Youth</th>\n",
              "      <td>4.746032</td>\n",
              "      <td>4.638889</td>\n",
              "      <td>2.911765</td>\n",
              "      <td>3.796610</td>\n",
              "      <td>4.434783</td>\n",
              "    </tr>\n",
              "    <tr>\n",
              "      <th>Drinking</th>\n",
              "      <td>6.329787</td>\n",
              "      <td>4.038911</td>\n",
              "      <td>3.585034</td>\n",
              "      <td>4.394958</td>\n",
              "      <td>3.971429</td>\n",
              "    </tr>\n",
              "  </tbody>\n",
              "</table>\n",
              "</div>"
            ],
            "text/plain": [
              "                 Request_Closing_Hours            ...                        \n",
              "Borough                          BRONX  BROOKLYN  ...    QUEENS STATEN ISLAND\n",
              "Complaint Type                                    ...                        \n",
              "Animal Abuse                  7.837226  5.339331  ...  5.919957      5.464991\n",
              "Blocked Driveway              6.761950  4.914569  ...  5.037781      4.581037\n",
              "Derelict Vehicle              9.708568  6.467970  ...  9.007899      5.539989\n",
              "Disorderly Youth              4.746032  4.638889  ...  3.796610      4.434783\n",
              "Drinking                      6.329787  4.038911  ...  4.394958      3.971429\n",
              "\n",
              "[5 rows x 5 columns]"
            ]
          },
          "metadata": {},
          "execution_count": 26
        }
      ]
    },
    {
      "cell_type": "markdown",
      "metadata": {
        "id": "YefDvl5nWiXV"
      },
      "source": [
        "#visualizing top 5 complaints in each borough using subplots"
      ]
    },
    {
      "cell_type": "code",
      "metadata": {
        "id": "hQ1_RHA1WiXV",
        "colab": {
          "base_uri": "https://localhost:8080/",
          "height": 585
        },
        "outputId": "fd498fca-686d-40d5-971d-51e30f719396"
      },
      "source": [
        "col_number = 2\n",
        "row_number = 3\n",
        "fig, axes = plt.subplots(row_number,col_number, figsize=(12,8))\n",
        "\n",
        "for i, (label,col) in enumerate(grouped_data.iteritems()):\n",
        "    ax = axes[int(i/col_number), i%col_number]\n",
        "    col = col.sort_values(ascending=True)[:15]\n",
        "    col.plot(kind='barh', ax=ax)\n",
        "    ax.set_title(label)\n",
        "    \n",
        "plt.tight_layout()"
      ],
      "execution_count": 27,
      "outputs": [
        {
          "output_type": "display_data",
          "data": {
            "image/png": "[encoded data removed]",
            "text/plain": [
              "<Figure size 864x576 with 6 Axes>"
            ]
          },
          "metadata": {
            "needs_background": "light"
          }
        }
      ]
    },
    {
      "cell_type": "code",
      "metadata": {
        "id": "fzur-ZjxWiXW",
        "colab": {
          "base_uri": "https://localhost:8080/",
          "height": 522
        },
        "outputId": "999b6cfb-3e3a-4b29-99a3-4d62bdaed874"
      },
      "source": [
        "(hr1['Complaint Type'].value_counts()).head(25).plot(kind='bar',\n",
        "                                                    figsize=(10,6),title = 'Most Frequent Complaints in Brooklyn')"
      ],
      "execution_count": 28,
      "outputs": [
        {
          "output_type": "execute_result",
          "data": {
            "text/plain": [
              "<matplotlib.axes._subplots.AxesSubplot at 0x7fe01a543550>"
            ]
          },
          "metadata": {},
          "execution_count": 28
        },
        {
          "output_type": "display_data",
          "data": {
            "image/png": "[encoded data removed]",
            "text/plain": [
              "<Figure size 720x432 with 1 Axes>"
            ]
          },
          "metadata": {
            "needs_background": "light"
          }
        }
      ]
    },
    {
      "cell_type": "markdown",
      "metadata": {
        "id": "EF3ser-dWiXX"
      },
      "source": [
        "#doing ANOVA test to check whether the average response time across complaint types is similar or not"
      ]
    },
    {
      "cell_type": "markdown",
      "metadata": {
        "id": "iTw1nHrhWiXX"
      },
      "source": [
        "**h0**= average response time across complaint types is similar\n",
        "if p>0.05"
      ]
    },
    {
      "cell_type": "markdown",
      "metadata": {
        "id": "H9zG7H5_WiXY"
      },
      "source": [
        "ha=average response time across complaint types is not  similar \n",
        "so for proove that we have cheake p value p<0.05"
      ]
    },
    {
      "cell_type": "code",
      "metadata": {
        "id": "lbPXGhymWiXY"
      },
      "source": [
        "data = {}\n",
        "for complaint in hr1['Complaint Type'].unique():\n",
        "    data[complaint] = np.log(hr1[hr1['Complaint Type']==complaint]['Request_Closing_Hours'])"
      ],
      "execution_count": 29,
      "outputs": []
    },
    {
      "cell_type": "code",
      "metadata": {
        "id": "fta0JTADWiXZ",
        "colab": {
          "base_uri": "https://localhost:8080/"
        },
        "outputId": "84bc8ab1-c20a-4be6-dc16-0984670059ff"
      },
      "source": [
        "data[complaint].head()"
      ],
      "execution_count": 30,
      "outputs": [
        {
          "output_type": "execute_result",
          "data": {
            "text/plain": [
              "4670     0.000000\n",
              "9034     0.693147\n",
              "12027    0.000000\n",
              "12176    1.791759\n",
              "17181    0.693147\n",
              "Name: Request_Closing_Hours, dtype: float64"
            ]
          },
          "metadata": {},
          "execution_count": 30
        }
      ]
    },
    {
      "cell_type": "code",
      "metadata": {
        "id": "ja0d7-frWiXZ",
        "colab": {
          "base_uri": "https://localhost:8080/"
        },
        "outputId": "e19a442b-83d6-4ffc-e4d3-ee94bd220aaa"
      },
      "source": [
        "data.keys()"
      ],
      "execution_count": 31,
      "outputs": [
        {
          "output_type": "execute_result",
          "data": {
            "text/plain": [
              "dict_keys(['Noise - Street/Sidewalk', 'Blocked Driveway', 'Illegal Parking', 'Derelict Vehicle', 'Noise - Commercial', 'Noise - House of Worship', 'Posting Advertisement', 'Noise - Vehicle', 'Animal Abuse', 'Vending', 'Traffic', 'Drinking', 'Noise - Park', 'Graffiti', 'Disorderly Youth'])"
            ]
          },
          "metadata": {},
          "execution_count": 31
        }
      ]
    },
    {
      "cell_type": "code",
      "metadata": {
        "id": "zxov4dbhWiXa",
        "colab": {
          "base_uri": "https://localhost:8080/"
        },
        "outputId": "092fb497-9087-4cae-ded5-10a1e7f07e0c"
      },
      "source": [
        "# import f_oneway from scipy.stats library\n",
        "\n",
        "stat, p = f_oneway(data['Noise - Street/Sidewalk'],data['Blocked Driveway'],data['Illegal Parking'],data['Derelict Vehicle'],\n",
        "                   data['Noise - Commercial'])\n",
        "print('Statistics=%.3f, p=%.3f' % (stat, p))\n",
        "\n",
        "if p > 0.05:\n",
        "    print('the average response time across complaint types is similar hence \"fail to reject H0\"')\n",
        "else:\n",
        "    print('the average response time across complaint types is not similar hence \"reject H0\"')"
      ],
      "execution_count": 32,
      "outputs": [
        {
          "output_type": "stream",
          "name": "stdout",
          "text": [
            "Statistics=2393.511, p=0.000\n",
            "the average response time across complaint types is not similar hence \"reject H0\"\n"
          ]
        }
      ]
    },
    {
      "cell_type": "markdown",
      "metadata": {
        "id": "rFmthv8oWiXb"
      },
      "source": [
        "checking correlation between location and complaint types"
      ]
    },
    {
      "cell_type": "markdown",
      "metadata": {
        "id": "1JlbShFYWiXb"
      },
      "source": [
        "to performe corelation test we have all the value in numerical formate so first task is to change cattegorical values to numerical \n",
        "by using getdummies ()"
      ]
    },
    {
      "cell_type": "markdown",
      "metadata": {
        "id": "uc2eXnmGWiXb"
      },
      "source": [
        "then perform a test between location and comp. type "
      ]
    },
    {
      "cell_type": "code",
      "metadata": {
        "id": "6_SMoDJFWiXc"
      },
      "source": [
        "corr_test_data = hr1[['Complaint Type','Borough','Longitude','Latitude','City']]"
      ],
      "execution_count": 33,
      "outputs": []
    },
    {
      "cell_type": "code",
      "metadata": {
        "id": "QitKyFkpWiXd",
        "colab": {
          "base_uri": "https://localhost:8080/"
        },
        "outputId": "6fcb47ff-e276-453d-988c-c573987ab341"
      },
      "source": [
        "corr_test_data['Complaint Type']=pd.get_dummies(corr_test_data['Complaint Type'])\n",
        "corr_test_data['Borough']=pd.get_dummies(corr_test_data['Borough'])\n",
        "corr_test_data['City']=pd.get_dummies(corr_test_data['City'])"
      ],
      "execution_count": 34,
      "outputs": [
        {
          "output_type": "stream",
          "name": "stderr",
          "text": [
            "/usr/local/lib/python3.7/dist-packages/ipykernel_launcher.py:1: SettingWithCopyWarning: \n",
            "A value is trying to be set on a copy of a slice from a DataFrame.\n",
            "Try using .loc[row_indexer,col_indexer] = value instead\n",
            "\n",
            "See the caveats in the documentation: https://pandas.pydata.org/pandas-docs/stable/user_guide/indexing.html#returning-a-view-versus-a-copy\n",
            "  \"\"\"Entry point for launching an IPython kernel.\n",
            "/usr/local/lib/python3.7/dist-packages/ipykernel_launcher.py:2: SettingWithCopyWarning: \n",
            "A value is trying to be set on a copy of a slice from a DataFrame.\n",
            "Try using .loc[row_indexer,col_indexer] = value instead\n",
            "\n",
            "See the caveats in the documentation: https://pandas.pydata.org/pandas-docs/stable/user_guide/indexing.html#returning-a-view-versus-a-copy\n",
            "  \n",
            "/usr/local/lib/python3.7/dist-packages/ipykernel_launcher.py:3: SettingWithCopyWarning: \n",
            "A value is trying to be set on a copy of a slice from a DataFrame.\n",
            "Try using .loc[row_indexer,col_indexer] = value instead\n",
            "\n",
            "See the caveats in the documentation: https://pandas.pydata.org/pandas-docs/stable/user_guide/indexing.html#returning-a-view-versus-a-copy\n",
            "  This is separate from the ipykernel package so we can avoid doing imports until\n"
          ]
        }
      ]
    },
    {
      "cell_type": "code",
      "metadata": {
        "id": "l1gpGXJXWiXd",
        "colab": {
          "base_uri": "https://localhost:8080/",
          "height": 0
        },
        "outputId": "26bd0840-eded-4dda-b5cc-dcbd7d65bc20"
      },
      "source": [
        "corr_test_data.corr()"
      ],
      "execution_count": 35,
      "outputs": [
        {
          "output_type": "execute_result",
          "data": {
            "text/html": [
              "<div>\n",
              "<style scoped>\n",
              "    .dataframe tbody tr th:only-of-type {\n",
              "        vertical-align: middle;\n",
              "    }\n",
              "\n",
              "    .dataframe tbody tr th {\n",
              "        vertical-align: top;\n",
              "    }\n",
              "\n",
              "    .dataframe thead th {\n",
              "        text-align: right;\n",
              "    }\n",
              "</style>\n",
              "<table border=\"1\" class=\"dataframe\">\n",
              "  <thead>\n",
              "    <tr style=\"text-align: right;\">\n",
              "      <th></th>\n",
              "      <th>Complaint Type</th>\n",
              "      <th>Borough</th>\n",
              "      <th>Longitude</th>\n",
              "      <th>Latitude</th>\n",
              "      <th>City</th>\n",
              "    </tr>\n",
              "  </thead>\n",
              "  <tbody>\n",
              "    <tr>\n",
              "      <th>Complaint Type</th>\n",
              "      <td>1.000000</td>\n",
              "      <td>0.021228</td>\n",
              "      <td>-0.000783</td>\n",
              "      <td>-0.004795</td>\n",
              "      <td>0.025445</td>\n",
              "    </tr>\n",
              "    <tr>\n",
              "      <th>Borough</th>\n",
              "      <td>0.021228</td>\n",
              "      <td>1.000000</td>\n",
              "      <td>0.230429</td>\n",
              "      <td>0.603444</td>\n",
              "      <td>-0.010857</td>\n",
              "    </tr>\n",
              "    <tr>\n",
              "      <th>Longitude</th>\n",
              "      <td>-0.000783</td>\n",
              "      <td>0.230429</td>\n",
              "      <td>1.000000</td>\n",
              "      <td>0.368839</td>\n",
              "      <td>0.044940</td>\n",
              "    </tr>\n",
              "    <tr>\n",
              "      <th>Latitude</th>\n",
              "      <td>-0.004795</td>\n",
              "      <td>0.603444</td>\n",
              "      <td>0.368839</td>\n",
              "      <td>1.000000</td>\n",
              "      <td>-0.044042</td>\n",
              "    </tr>\n",
              "    <tr>\n",
              "      <th>City</th>\n",
              "      <td>0.025445</td>\n",
              "      <td>-0.010857</td>\n",
              "      <td>0.044940</td>\n",
              "      <td>-0.044042</td>\n",
              "      <td>1.000000</td>\n",
              "    </tr>\n",
              "  </tbody>\n",
              "</table>\n",
              "</div>"
            ],
            "text/plain": [
              "                Complaint Type   Borough  Longitude  Latitude      City\n",
              "Complaint Type        1.000000  0.021228  -0.000783 -0.004795  0.025445\n",
              "Borough               0.021228  1.000000   0.230429  0.603444 -0.010857\n",
              "Longitude            -0.000783  0.230429   1.000000  0.368839  0.044940\n",
              "Latitude             -0.004795  0.603444   0.368839  1.000000 -0.044042\n",
              "City                  0.025445 -0.010857   0.044940 -0.044042  1.000000"
            ]
          },
          "metadata": {},
          "execution_count": 35
        }
      ]
    },
    {
      "cell_type": "markdown",
      "metadata": {
        "id": "0A3WlqOnWiXe"
      },
      "source": [
        "view the correlation by using heatmap \n",
        "using seaborn lib "
      ]
    },
    {
      "cell_type": "code",
      "metadata": {
        "id": "Mbh71GBQWiXf"
      },
      "source": [
        "import seaborn as sns\n"
      ],
      "execution_count": 36,
      "outputs": []
    },
    {
      "cell_type": "code",
      "metadata": {
        "id": "JIqHrBv5WiXf",
        "colab": {
          "base_uri": "https://localhost:8080/",
          "height": 0
        },
        "outputId": "58bef8ef-b8d9-47d5-da2d-e046471006bb"
      },
      "source": [
        "ax = sns.heatmap(corr_test_data.corr())"
      ],
      "execution_count": 37,
      "outputs": [
        {
          "output_type": "display_data",
          "data": {
            "image/png": "[encoded data removed]",
            "text/plain": [
              "<Figure size 432x288 with 2 Axes>"
            ]
          },
          "metadata": {
            "needs_background": "light"
          }
        }
      ]
    },
    {
      "cell_type": "code",
      "metadata": {
        "id": "IaM8o77SWiXg"
      },
      "source": [
        ""
      ],
      "execution_count": 37,
      "outputs": []
    }
  ]
}